{
 "cells": [
  {
   "cell_type": "code",
   "execution_count": null,
   "metadata": {},
   "outputs": [],
   "source": []
  },
  {
   "cell_type": "markdown",
   "metadata": {},
   "source": [
    "#  BFS WITH  QUEUE & NODE\n"
   ]
  },
  {
   "cell_type": "code",
   "execution_count": 2,
   "metadata": {},
   "outputs": [
    {
     "name": "stdout",
     "output_type": "stream",
     "text": [
      "Node: A\n",
      "Connections: ['B', 'E', 'D']\n",
      "Node: B\n",
      "Connections: ['F']\n",
      "Node: D\n",
      "Connections: ['C', 'H']\n",
      "Node: E\n",
      "Connections: ['H']\n",
      "Node: F\n",
      "Connections: ['I', 'G']\n",
      "Node: G\n",
      "Connections: ['C', 'B']\n",
      "Node: C\n",
      "Connections: ['B']\n",
      "Node: I\n",
      "Connections: ['H']\n"
     ]
    }
   ],
   "source": [
    "Graph = {\n",
    "    'A' : ['B','E','D'],\n",
    "    'B':['F'],\n",
    "    'D':['C','H'],\n",
    "    'E':['H'],\n",
    "    'F':['I','G'],\n",
    "    'G':['C','B'],\n",
    "    'C':['B'],\n",
    "    'I':['H']\n",
    "    \n",
    "}\n",
    "\n",
    "\n",
    "for node, connections in Graph.items():\n",
    "    print(f\"Node: {node}\")\n",
    "    print(f\"Connections: {connections}\")\n"
   ]
  },
  {
   "cell_type": "code",
   "execution_count": 3,
   "metadata": {},
   "outputs": [
    {
     "name": "stdout",
     "output_type": "stream",
     "text": [
      "\n",
      "Order of BFS traversal from starting node A:\n",
      "\n",
      "Starting BFS from node A:\n",
      "\n",
      "Visited: A\n",
      "Visited: B\n",
      "Visited: E\n",
      "Visited: D\n",
      "Visited: F\n",
      "Visited: H\n",
      "Visited: C\n",
      "Visited: I\n",
      "Visited: G\n",
      "\n",
      "Traversal completed. Order of nodes visited: ['A', 'B', 'E', 'D', 'F', 'H', 'C', 'I', 'G']\n"
     ]
    }
   ],
   "source": [
    "# BFS \n",
    "def perform_bfs(network, starting_node):\n",
    "    \n",
    "    visited_nodes = []  \n",
    "    exploration_queue = [starting_node]\n",
    "    print(f\"\\nStarting BFS from node {starting_node}:\\n\")\n",
    "\n",
    "    while exploration_queue:  \n",
    "        current_node = exploration_queue.pop(0)  \n",
    "        if current_node not in visited_nodes:  \n",
    "            visited_nodes.append(current_node)  \n",
    "            print(f\"Visited: {current_node}\")  \n",
    "            \n",
    "            exploration_queue.extend(neighbor for neighbor in network.get(current_node, []) if neighbor not in visited_nodes)\n",
    "\n",
    "    return visited_nodes  \n",
    "\n",
    "# Execute the BFS traversal\n",
    "print(\"\\nOrder of BFS traversal from starting node A:\")\n",
    "order = perform_bfs(Graph, 'A')\n",
    "print(\"\\nTraversal completed. Order of nodes visited:\", order)\n",
    "\n"
   ]
  },
  {
   "cell_type": "markdown",
   "metadata": {},
   "source": [
    "### BFS without queue or node"
   ]
  },
  {
   "cell_type": "code",
   "execution_count": 8,
   "metadata": {},
   "outputs": [
    {
     "name": "stdout",
     "output_type": "stream",
     "text": [
      "BFS Traversal:\n",
      "A B E D F H G "
     ]
    }
   ],
   "source": [
    "def bfs_without_queue(graph, start):\n",
    "    visited = []  \n",
    "    level = [start]  \n",
    "\n",
    "    while level:\n",
    "        next_level = []  \n",
    "        for node in level:\n",
    "            print(node, end=\" \")  \n",
    "            visited.append(node)\n",
    "            \n",
    "            next_level.extend(neighbor for neighbor in graph[node] if neighbor not in visited)\n",
    "        level = next_level\n",
    "\n",
    "\n",
    "Graph = {\n",
    "    'A': ['B', 'E', 'D'],\n",
    "    'B': ['F'],\n",
    "    'E': ['H'],\n",
    "    'D': ['G'],\n",
    "    'F': [],\n",
    "    'G': [],\n",
    "    'H': []  \n",
    "}\n",
    "\n",
    "# Perform BFS\n",
    "print(\"BFS Traversal:\")\n",
    "bfs_without_queue(Graph, 'A')\n"
   ]
  },
  {
   "cell_type": "code",
   "execution_count": null,
   "metadata": {},
   "outputs": [],
   "source": []
  }
 ],
 "metadata": {
  "kernelspec": {
   "display_name": "Python 3",
   "language": "python",
   "name": "python3"
  },
  "language_info": {
   "codemirror_mode": {
    "name": "ipython",
    "version": 3
   },
   "file_extension": ".py",
   "mimetype": "text/x-python",
   "name": "python",
   "nbconvert_exporter": "python",
   "pygments_lexer": "ipython3",
   "version": "3.11.9"
  }
 },
 "nbformat": 4,
 "nbformat_minor": 2
}
