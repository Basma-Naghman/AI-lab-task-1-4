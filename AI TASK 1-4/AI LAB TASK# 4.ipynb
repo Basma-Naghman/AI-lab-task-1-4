{
 "cells": [
  {
   "cell_type": "code",
   "execution_count": null,
   "metadata": {},
   "outputs": [],
   "source": []
  },
  {
   "cell_type": "markdown",
   "metadata": {},
   "source": [
    "CHARACTER SORTING"
   ]
  },
  {
   "cell_type": "code",
   "execution_count": 1,
   "metadata": {},
   "outputs": [
    {
     "name": "stdout",
     "output_type": "stream",
     "text": [
      "['hello', 'everyone']\n",
      "h\n",
      "e\n",
      "l\n",
      "l\n",
      "o\n",
      "e\n",
      "v\n",
      "e\n",
      "r\n",
      "y\n",
      "o\n",
      "n\n",
      "e\n",
      "[104, 101, 108, 108, 111, 101, 118, 101, 114, 121, 111, 110, 101]\n"
     ]
    }
   ],
   "source": [
    "s = input(\"Enter a string \")\n",
    "x = s.split()\n",
    "print(x)\n",
    "list1 = []\n",
    "for i in x[0:]:\n",
    "  for j in i[0:]:\n",
    "    print(j,sep='')\n",
    "    num = ord(j)\n",
    "    list1.append(num)\n",
    "print(list1)\n",
    "    "
   ]
  },
  {
   "cell_type": "code",
   "execution_count": 2,
   "metadata": {},
   "outputs": [
    {
     "name": "stdout",
     "output_type": "stream",
     "text": [
      "[101, 101, 101, 104, 108, 108, 110, 111, 111, 114, 118, 121, 101]\n",
      "eeehllnoorvye\n"
     ]
    }
   ],
   "source": [
    "for a in range(len(list1)-1):\n",
    "      for b in range(len(list1)-1-1-a):\n",
    "        if list1[b] > list1[b+1]:\n",
    "            list1[b],list1[b+1]=list1[b+1],list1[b]\n",
    "          \n",
    "          \n",
    "print(list1)\n",
    "character = [chr(num) for num in list1]\n",
    "result = \"\".join(character)\n",
    "print(result)"
   ]
  },
  {
   "cell_type": "code",
   "execution_count": null,
   "metadata": {},
   "outputs": [],
   "source": []
  },
  {
   "cell_type": "markdown",
   "metadata": {},
   "source": [
    "PUNTUATION REMOVE"
   ]
  },
  {
   "cell_type": "code",
   "execution_count": 1,
   "metadata": {},
   "outputs": [
    {
     "data": {
      "text/plain": [
       "'BAS'"
      ]
     },
     "execution_count": 1,
     "metadata": {},
     "output_type": "execute_result"
    }
   ],
   "source": [
    "def remove_punction():\n",
    "  list1 = []\n",
    "  x = input(\"Enter string \")\n",
    "\n",
    "  for i in x:\n",
    "    if i.isalpha():\n",
    "        list1.append(i)\n",
    "\n",
    "  return ''.join(list1)\n",
    "\n",
    "remove_punction()"
   ]
  },
  {
   "cell_type": "code",
   "execution_count": 14,
   "metadata": {},
   "outputs": [
    {
     "name": "stdout",
     "output_type": "stream",
     "text": [
      "[2]\n",
      "[2, 4]\n",
      "[2, 4, 6]\n",
      "[2, 4, 6, 8]\n"
     ]
    }
   ],
   "source": [
    "list1 = []\n",
    "limit  = 16\n",
    "for i in range(limit-len(list1)):\n",
    "    a = int(input(\"Enter numbers : \"))\n",
    "    list1.append(a)\n",
    "    print(list1)"
   ]
  },
  {
   "cell_type": "code",
   "execution_count": 45,
   "metadata": {},
   "outputs": [
    {
     "name": "stdout",
     "output_type": "stream",
     "text": [
      "updated numbers are  : [5, 8, 9, 3, 8, 0, 4, 1, 1, 5, 4, 5, 7, 2, 8]\n",
      "Reverse numbers  [8, 2, 7, 5, 4, 5, 1, 1, 4, 0, 8, 3, 9, 8, 5]\n",
      "[16, 2, 14, 5, 8, 5, 2, 1, 8, 0, 16, 3, 18, 8, 10]\n",
      "[7, 2, 5, 5, 8, 5, 2, 1, 8, 0, 7, 3, 9, 8, 1, 9]\n",
      "Valid\n"
     ]
    }
   ],
   "source": [
    "\n",
    "class luhn:\n",
    "    def remove_last_digit(self):\n",
    "\n",
    "     self.xx = list1.pop()\n",
    "     print(\"updated numbers are  :\",list1)\n",
    "    def add_X(self):\n",
    "     self.xx = \"X\"\n",
    "     list1.append(self.xx)\n",
    "     print(list1)\n",
    "    def reverse_number(self):\n",
    "       \n",
    "     self.a = list1[::-1]\n",
    "     print(\"Reverse numbers \" ,self.a)\n",
    "\n",
    "    def double_digits(self):\n",
    "      for i in range(0,len(self.a),2):\n",
    "       #if self.a[i] % 2 == 0:\n",
    "         self.a[i] = self.a[i] * 2\n",
    "      print(self.a)\n",
    "\n",
    "    def sub_over_9(self):\n",
    "      for i in range(len(self.a)):\n",
    "         if self.a[i] > 9:\n",
    "           self.a[i] = self.a[i] - 9\n",
    "\n",
    "      value = 9\n",
    "      self.a.append(value)     \n",
    "      print(self.a)\n",
    "\n",
    "    def  sum_num(self):\n",
    "      result = sum(self.a)\n",
    "      if result % 10 == 0:\n",
    "        print(\"Valid\")\n",
    "      else:\n",
    "        print(\"Invalid\")  \n",
    "            \n",
    "          \n",
    "      \n",
    "      \n",
    "\n",
    "\n",
    "obj1 = luhn()\n",
    "obj1.remove_last_digit()\n",
    "#obj1.add_X()\n",
    "obj1.reverse_number()\n",
    "obj1.double_digits()\n",
    "obj1.sub_over_9()\n",
    "obj1.sum_num()\n",
    " "
   ]
  },
  {
   "cell_type": "code",
   "execution_count": 38,
   "metadata": {},
   "outputs": [
    {
     "data": {
      "text/plain": [
       "[76, 97, 95, 34, 768]"
      ]
     },
     "execution_count": 38,
     "metadata": {},
     "output_type": "execute_result"
    }
   ],
   "source": []
  },
  {
   "cell_type": "code",
   "execution_count": null,
   "metadata": {},
   "outputs": [],
   "source": []
  }
 ],
 "metadata": {
  "kernelspec": {
   "display_name": "Python 3",
   "language": "python",
   "name": "python3"
  },
  "language_info": {
   "codemirror_mode": {
    "name": "ipython",
    "version": 3
   },
   "file_extension": ".py",
   "mimetype": "text/x-python",
   "name": "python",
   "nbconvert_exporter": "python",
   "pygments_lexer": "ipython3",
   "version": "3.11.9"
  }
 },
 "nbformat": 4,
 "nbformat_minor": 2
}
