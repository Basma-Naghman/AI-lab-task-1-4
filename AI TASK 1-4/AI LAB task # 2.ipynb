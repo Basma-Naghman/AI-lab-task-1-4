{
 "cells": [
  {
   "cell_type": "code",
   "execution_count": null,
   "metadata": {},
   "outputs": [],
   "source": []
  },
  {
   "cell_type": "code",
   "execution_count": null,
   "metadata": {},
   "outputs": [],
   "source": [
    "import random\n",
    "\n",
    "\n",
    "def fizz_buzz_game():\n",
    "  random_int = random.randint(1,100)\n",
    "  \n",
    "  print(\"number is : \" ,random_int)\n",
    "  \n",
    "  check_fizz_buzz = input(\"Enter this number is fizz , buzz ,fizz_buzz , empty : \" )\n",
    "\n",
    "  if check_fizz_buzz == \"fizz\":\n",
    "    if random_int % 3 == 0 :\n",
    "      print(\"correct\")\n",
    "    else :\n",
    "      print(\"incorrect\")  \n",
    "    \n",
    "  elif check_fizz_buzz == \"buzz\":\n",
    "    if random_int %5 ==0:\n",
    "      print(\"corrrect\")\n",
    "    else :\n",
    "      print(\"incorrect\") \n",
    "  elif check_fizz_buzz == \"fizzbuzz\":\n",
    "    if random_int %3 ==0 or random_int%5 == 0:\n",
    "      print(\"corrrect\")\n",
    "    else :\n",
    "      print(\"incorrect\") \n",
    "  else :\n",
    "    print(\"correct\")\n",
    "    \n",
    "  while True:\n",
    "    x = input(\"Enter yes or no if you want play again : \").strip().lower()\n",
    "    print(x)\n",
    "\n",
    "    if x == \"yes\":\n",
    "     \n",
    "     fizz_buzz_game()\n",
    "    else:\n",
    "      print(\"okay\")\n",
    "    break  \n",
    "      \n",
    "\n",
    "\n",
    "fizz_buzz_game()\n",
    "\n",
    "\n"
   ]
  },
  {
   "cell_type": "code",
   "execution_count": null,
   "metadata": {},
   "outputs": [],
   "source": []
  }
 ],
 "metadata": {
  "language_info": {
   "name": "python"
  }
 },
 "nbformat": 4,
 "nbformat_minor": 2
}
