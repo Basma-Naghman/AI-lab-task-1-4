{
 "cells": [
  {
   "cell_type": "code",
   "execution_count": 1,
   "id": "bcf254cf",
   "metadata": {},
   "outputs": [],
   "source": [
    "import pandas as pd"
   ]
  },
  {
   "cell_type": "code",
   "execution_count": 6,
   "id": "df4e00f2",
   "metadata": {},
   "outputs": [],
   "source": [
    "df = pd.read_csv(\"loan_data.csv\")"
   ]
  },
  {
   "cell_type": "code",
   "execution_count": 7,
   "id": "2219ced7",
   "metadata": {},
   "outputs": [
    {
     "data": {
      "text/html": [
       "<div>\n",
       "<style scoped>\n",
       "    .dataframe tbody tr th:only-of-type {\n",
       "        vertical-align: middle;\n",
       "    }\n",
       "\n",
       "    .dataframe tbody tr th {\n",
       "        vertical-align: top;\n",
       "    }\n",
       "\n",
       "    .dataframe thead th {\n",
       "        text-align: right;\n",
       "    }\n",
       "</style>\n",
       "<table border=\"1\" class=\"dataframe\">\n",
       "  <thead>\n",
       "    <tr style=\"text-align: right;\">\n",
       "      <th></th>\n",
       "      <th>person_age</th>\n",
       "      <th>person_gender</th>\n",
       "      <th>person_education</th>\n",
       "      <th>person_income</th>\n",
       "      <th>person_emp_exp</th>\n",
       "      <th>person_home_ownership</th>\n",
       "      <th>loan_amnt</th>\n",
       "      <th>loan_intent</th>\n",
       "      <th>loan_int_rate</th>\n",
       "      <th>loan_percent_income</th>\n",
       "      <th>cb_person_cred_hist_length</th>\n",
       "      <th>credit_score</th>\n",
       "      <th>previous_loan_defaults_on_file</th>\n",
       "      <th>loan_status</th>\n",
       "    </tr>\n",
       "  </thead>\n",
       "  <tbody>\n",
       "    <tr>\n",
       "      <th>0</th>\n",
       "      <td>22.0</td>\n",
       "      <td>female</td>\n",
       "      <td>Master</td>\n",
       "      <td>71948.0</td>\n",
       "      <td>0</td>\n",
       "      <td>RENT</td>\n",
       "      <td>35000.0</td>\n",
       "      <td>PERSONAL</td>\n",
       "      <td>16.02</td>\n",
       "      <td>0.49</td>\n",
       "      <td>3.0</td>\n",
       "      <td>561</td>\n",
       "      <td>No</td>\n",
       "      <td>1</td>\n",
       "    </tr>\n",
       "    <tr>\n",
       "      <th>1</th>\n",
       "      <td>21.0</td>\n",
       "      <td>female</td>\n",
       "      <td>High School</td>\n",
       "      <td>12282.0</td>\n",
       "      <td>0</td>\n",
       "      <td>OWN</td>\n",
       "      <td>1000.0</td>\n",
       "      <td>EDUCATION</td>\n",
       "      <td>11.14</td>\n",
       "      <td>0.08</td>\n",
       "      <td>2.0</td>\n",
       "      <td>504</td>\n",
       "      <td>Yes</td>\n",
       "      <td>0</td>\n",
       "    </tr>\n",
       "    <tr>\n",
       "      <th>2</th>\n",
       "      <td>25.0</td>\n",
       "      <td>female</td>\n",
       "      <td>High School</td>\n",
       "      <td>12438.0</td>\n",
       "      <td>3</td>\n",
       "      <td>MORTGAGE</td>\n",
       "      <td>5500.0</td>\n",
       "      <td>MEDICAL</td>\n",
       "      <td>12.87</td>\n",
       "      <td>0.44</td>\n",
       "      <td>3.0</td>\n",
       "      <td>635</td>\n",
       "      <td>No</td>\n",
       "      <td>1</td>\n",
       "    </tr>\n",
       "    <tr>\n",
       "      <th>3</th>\n",
       "      <td>23.0</td>\n",
       "      <td>female</td>\n",
       "      <td>Bachelor</td>\n",
       "      <td>79753.0</td>\n",
       "      <td>0</td>\n",
       "      <td>RENT</td>\n",
       "      <td>35000.0</td>\n",
       "      <td>MEDICAL</td>\n",
       "      <td>15.23</td>\n",
       "      <td>0.44</td>\n",
       "      <td>2.0</td>\n",
       "      <td>675</td>\n",
       "      <td>No</td>\n",
       "      <td>1</td>\n",
       "    </tr>\n",
       "    <tr>\n",
       "      <th>4</th>\n",
       "      <td>24.0</td>\n",
       "      <td>male</td>\n",
       "      <td>Master</td>\n",
       "      <td>66135.0</td>\n",
       "      <td>1</td>\n",
       "      <td>RENT</td>\n",
       "      <td>35000.0</td>\n",
       "      <td>MEDICAL</td>\n",
       "      <td>14.27</td>\n",
       "      <td>0.53</td>\n",
       "      <td>4.0</td>\n",
       "      <td>586</td>\n",
       "      <td>No</td>\n",
       "      <td>1</td>\n",
       "    </tr>\n",
       "    <tr>\n",
       "      <th>...</th>\n",
       "      <td>...</td>\n",
       "      <td>...</td>\n",
       "      <td>...</td>\n",
       "      <td>...</td>\n",
       "      <td>...</td>\n",
       "      <td>...</td>\n",
       "      <td>...</td>\n",
       "      <td>...</td>\n",
       "      <td>...</td>\n",
       "      <td>...</td>\n",
       "      <td>...</td>\n",
       "      <td>...</td>\n",
       "      <td>...</td>\n",
       "      <td>...</td>\n",
       "    </tr>\n",
       "    <tr>\n",
       "      <th>44995</th>\n",
       "      <td>27.0</td>\n",
       "      <td>male</td>\n",
       "      <td>Associate</td>\n",
       "      <td>47971.0</td>\n",
       "      <td>6</td>\n",
       "      <td>RENT</td>\n",
       "      <td>15000.0</td>\n",
       "      <td>MEDICAL</td>\n",
       "      <td>15.66</td>\n",
       "      <td>0.31</td>\n",
       "      <td>3.0</td>\n",
       "      <td>645</td>\n",
       "      <td>No</td>\n",
       "      <td>1</td>\n",
       "    </tr>\n",
       "    <tr>\n",
       "      <th>44996</th>\n",
       "      <td>37.0</td>\n",
       "      <td>female</td>\n",
       "      <td>Associate</td>\n",
       "      <td>65800.0</td>\n",
       "      <td>17</td>\n",
       "      <td>RENT</td>\n",
       "      <td>9000.0</td>\n",
       "      <td>HOMEIMPROVEMENT</td>\n",
       "      <td>14.07</td>\n",
       "      <td>0.14</td>\n",
       "      <td>11.0</td>\n",
       "      <td>621</td>\n",
       "      <td>No</td>\n",
       "      <td>1</td>\n",
       "    </tr>\n",
       "    <tr>\n",
       "      <th>44997</th>\n",
       "      <td>33.0</td>\n",
       "      <td>male</td>\n",
       "      <td>Associate</td>\n",
       "      <td>56942.0</td>\n",
       "      <td>7</td>\n",
       "      <td>RENT</td>\n",
       "      <td>2771.0</td>\n",
       "      <td>DEBTCONSOLIDATION</td>\n",
       "      <td>10.02</td>\n",
       "      <td>0.05</td>\n",
       "      <td>10.0</td>\n",
       "      <td>668</td>\n",
       "      <td>No</td>\n",
       "      <td>1</td>\n",
       "    </tr>\n",
       "    <tr>\n",
       "      <th>44998</th>\n",
       "      <td>29.0</td>\n",
       "      <td>male</td>\n",
       "      <td>Bachelor</td>\n",
       "      <td>33164.0</td>\n",
       "      <td>4</td>\n",
       "      <td>RENT</td>\n",
       "      <td>12000.0</td>\n",
       "      <td>EDUCATION</td>\n",
       "      <td>13.23</td>\n",
       "      <td>0.36</td>\n",
       "      <td>6.0</td>\n",
       "      <td>604</td>\n",
       "      <td>No</td>\n",
       "      <td>1</td>\n",
       "    </tr>\n",
       "    <tr>\n",
       "      <th>44999</th>\n",
       "      <td>24.0</td>\n",
       "      <td>male</td>\n",
       "      <td>High School</td>\n",
       "      <td>51609.0</td>\n",
       "      <td>1</td>\n",
       "      <td>RENT</td>\n",
       "      <td>6665.0</td>\n",
       "      <td>DEBTCONSOLIDATION</td>\n",
       "      <td>17.05</td>\n",
       "      <td>0.13</td>\n",
       "      <td>3.0</td>\n",
       "      <td>628</td>\n",
       "      <td>No</td>\n",
       "      <td>1</td>\n",
       "    </tr>\n",
       "  </tbody>\n",
       "</table>\n",
       "<p>45000 rows × 14 columns</p>\n",
       "</div>"
      ],
      "text/plain": [
       "       person_age person_gender person_education  person_income  \\\n",
       "0            22.0        female           Master        71948.0   \n",
       "1            21.0        female      High School        12282.0   \n",
       "2            25.0        female      High School        12438.0   \n",
       "3            23.0        female         Bachelor        79753.0   \n",
       "4            24.0          male           Master        66135.0   \n",
       "...           ...           ...              ...            ...   \n",
       "44995        27.0          male        Associate        47971.0   \n",
       "44996        37.0        female        Associate        65800.0   \n",
       "44997        33.0          male        Associate        56942.0   \n",
       "44998        29.0          male         Bachelor        33164.0   \n",
       "44999        24.0          male      High School        51609.0   \n",
       "\n",
       "       person_emp_exp person_home_ownership  loan_amnt        loan_intent  \\\n",
       "0                   0                  RENT    35000.0           PERSONAL   \n",
       "1                   0                   OWN     1000.0          EDUCATION   \n",
       "2                   3              MORTGAGE     5500.0            MEDICAL   \n",
       "3                   0                  RENT    35000.0            MEDICAL   \n",
       "4                   1                  RENT    35000.0            MEDICAL   \n",
       "...               ...                   ...        ...                ...   \n",
       "44995               6                  RENT    15000.0            MEDICAL   \n",
       "44996              17                  RENT     9000.0    HOMEIMPROVEMENT   \n",
       "44997               7                  RENT     2771.0  DEBTCONSOLIDATION   \n",
       "44998               4                  RENT    12000.0          EDUCATION   \n",
       "44999               1                  RENT     6665.0  DEBTCONSOLIDATION   \n",
       "\n",
       "       loan_int_rate  loan_percent_income  cb_person_cred_hist_length  \\\n",
       "0              16.02                 0.49                         3.0   \n",
       "1              11.14                 0.08                         2.0   \n",
       "2              12.87                 0.44                         3.0   \n",
       "3              15.23                 0.44                         2.0   \n",
       "4              14.27                 0.53                         4.0   \n",
       "...              ...                  ...                         ...   \n",
       "44995          15.66                 0.31                         3.0   \n",
       "44996          14.07                 0.14                        11.0   \n",
       "44997          10.02                 0.05                        10.0   \n",
       "44998          13.23                 0.36                         6.0   \n",
       "44999          17.05                 0.13                         3.0   \n",
       "\n",
       "       credit_score previous_loan_defaults_on_file  loan_status  \n",
       "0               561                             No            1  \n",
       "1               504                            Yes            0  \n",
       "2               635                             No            1  \n",
       "3               675                             No            1  \n",
       "4               586                             No            1  \n",
       "...             ...                            ...          ...  \n",
       "44995           645                             No            1  \n",
       "44996           621                             No            1  \n",
       "44997           668                             No            1  \n",
       "44998           604                             No            1  \n",
       "44999           628                             No            1  \n",
       "\n",
       "[45000 rows x 14 columns]"
      ]
     },
     "execution_count": 7,
     "metadata": {},
     "output_type": "execute_result"
    }
   ],
   "source": [
    "df"
   ]
  },
  {
   "cell_type": "code",
   "execution_count": 8,
   "id": "902d903c",
   "metadata": {},
   "outputs": [
    {
     "name": "stdout",
     "output_type": "stream",
     "text": [
      "<class 'pandas.core.frame.DataFrame'>\n",
      "RangeIndex: 45000 entries, 0 to 44999\n",
      "Data columns (total 14 columns):\n",
      " #   Column                          Non-Null Count  Dtype  \n",
      "---  ------                          --------------  -----  \n",
      " 0   person_age                      45000 non-null  float64\n",
      " 1   person_gender                   45000 non-null  object \n",
      " 2   person_education                45000 non-null  object \n",
      " 3   person_income                   45000 non-null  float64\n",
      " 4   person_emp_exp                  45000 non-null  int64  \n",
      " 5   person_home_ownership           45000 non-null  object \n",
      " 6   loan_amnt                       45000 non-null  float64\n",
      " 7   loan_intent                     45000 non-null  object \n",
      " 8   loan_int_rate                   45000 non-null  float64\n",
      " 9   loan_percent_income             45000 non-null  float64\n",
      " 10  cb_person_cred_hist_length      45000 non-null  float64\n",
      " 11  credit_score                    45000 non-null  int64  \n",
      " 12  previous_loan_defaults_on_file  45000 non-null  object \n",
      " 13  loan_status                     45000 non-null  int64  \n",
      "dtypes: float64(6), int64(3), object(5)\n",
      "memory usage: 4.8+ MB\n"
     ]
    }
   ],
   "source": [
    "df.info()"
   ]
  },
  {
   "cell_type": "code",
   "execution_count": 9,
   "id": "a70d12d0",
   "metadata": {},
   "outputs": [
    {
     "data": {
      "text/plain": [
       "person_age\n",
       "23.0     5254\n",
       "24.0     5138\n",
       "25.0     4507\n",
       "22.0     4236\n",
       "26.0     3659\n",
       "27.0     3095\n",
       "28.0     2728\n",
       "29.0     2455\n",
       "30.0     2021\n",
       "31.0     1645\n",
       "32.0     1403\n",
       "21.0     1289\n",
       "33.0     1240\n",
       "34.0      980\n",
       "35.0      847\n",
       "36.0      740\n",
       "37.0      666\n",
       "38.0      503\n",
       "39.0      389\n",
       "40.0      349\n",
       "41.0      303\n",
       "42.0      247\n",
       "43.0      215\n",
       "44.0      177\n",
       "45.0      135\n",
       "46.0      114\n",
       "47.0      112\n",
       "48.0       93\n",
       "49.0       59\n",
       "50.0       56\n",
       "51.0       46\n",
       "52.0       42\n",
       "53.0       35\n",
       "54.0       24\n",
       "55.0       24\n",
       "58.0       20\n",
       "56.0       20\n",
       "57.0       17\n",
       "20.0       17\n",
       "60.0       16\n",
       "61.0       12\n",
       "66.0       11\n",
       "65.0       10\n",
       "70.0        7\n",
       "64.0        7\n",
       "62.0        7\n",
       "59.0        6\n",
       "69.0        5\n",
       "144.0       3\n",
       "73.0        3\n",
       "63.0        3\n",
       "123.0       2\n",
       "78.0        1\n",
       "94.0        1\n",
       "80.0        1\n",
       "84.0        1\n",
       "76.0        1\n",
       "67.0        1\n",
       "116.0       1\n",
       "109.0       1\n",
       "Name: count, dtype: int64"
      ]
     },
     "execution_count": 9,
     "metadata": {},
     "output_type": "execute_result"
    }
   ],
   "source": [
    "df[\"person_age\"].value_counts()"
   ]
  },
  {
   "cell_type": "code",
   "execution_count": 12,
   "id": "5cc95c20",
   "metadata": {},
   "outputs": [
    {
     "data": {
      "text/plain": [
       "person_gender\n",
       "male      24841\n",
       "female    20159\n",
       "Name: count, dtype: int64"
      ]
     },
     "execution_count": 12,
     "metadata": {},
     "output_type": "execute_result"
    }
   ],
   "source": [
    "df[\"person_gender\"].value_counts()"
   ]
  },
  {
   "cell_type": "code",
   "execution_count": 14,
   "id": "6bef4a1b",
   "metadata": {},
   "outputs": [
    {
     "data": {
      "text/plain": [
       "person_education\n",
       "Bachelor       13399\n",
       "Associate      12028\n",
       "High School    11972\n",
       "Master          6980\n",
       "Doctorate        621\n",
       "Name: count, dtype: int64"
      ]
     },
     "execution_count": 14,
     "metadata": {},
     "output_type": "execute_result"
    }
   ],
   "source": [
    "df[\"person_education\"].value_counts()"
   ]
  },
  {
   "cell_type": "code",
   "execution_count": 16,
   "id": "2699fa0e",
   "metadata": {},
   "outputs": [
    {
     "data": {
      "text/plain": [
       "person_emp_exp\n",
       "0      9566\n",
       "2      4134\n",
       "1      4061\n",
       "3      3890\n",
       "4      3524\n",
       "       ... \n",
       "101       1\n",
       "124       1\n",
       "125       1\n",
       "121       1\n",
       "85        1\n",
       "Name: count, Length: 63, dtype: int64"
      ]
     },
     "execution_count": 16,
     "metadata": {},
     "output_type": "execute_result"
    }
   ],
   "source": [
    "df[\"person_emp_exp\"].value_counts()"
   ]
  },
  {
   "cell_type": "code",
   "execution_count": 18,
   "id": "510d3b8c",
   "metadata": {},
   "outputs": [
    {
     "data": {
      "text/plain": [
       "person_home_ownership\n",
       "RENT        23443\n",
       "MORTGAGE    18489\n",
       "OWN          2951\n",
       "OTHER         117\n",
       "Name: count, dtype: int64"
      ]
     },
     "execution_count": 18,
     "metadata": {},
     "output_type": "execute_result"
    }
   ],
   "source": [
    "df[\"person_home_ownership\"].value_counts()"
   ]
  },
  {
   "cell_type": "code",
   "execution_count": 19,
   "id": "a3356169",
   "metadata": {},
   "outputs": [
    {
     "data": {
      "text/plain": [
       "loan_status\n",
       "0    35000\n",
       "1    10000\n",
       "Name: count, dtype: int64"
      ]
     },
     "execution_count": 19,
     "metadata": {},
     "output_type": "execute_result"
    }
   ],
   "source": [
    "df[\"loan_status\"].value_counts()"
   ]
  },
  {
   "cell_type": "code",
   "execution_count": 20,
   "id": "849005e8",
   "metadata": {},
   "outputs": [
    {
     "data": {
      "text/plain": [
       "previous_loan_defaults_on_file\n",
       "Yes    22858\n",
       "No     22142\n",
       "Name: count, dtype: int64"
      ]
     },
     "execution_count": 20,
     "metadata": {},
     "output_type": "execute_result"
    }
   ],
   "source": [
    "df[\"previous_loan_defaults_on_file\"].value_counts()"
   ]
  },
  {
   "cell_type": "code",
   "execution_count": null,
   "id": "fcd5d227",
   "metadata": {},
   "outputs": [],
   "source": []
  }
 ],
 "metadata": {
  "kernelspec": {
   "display_name": "Python 3 (ipykernel)",
   "language": "python",
   "name": "python3"
  },
  "language_info": {
   "codemirror_mode": {
    "name": "ipython",
    "version": 3
   },
   "file_extension": ".py",
   "mimetype": "text/x-python",
   "name": "python",
   "nbconvert_exporter": "python",
   "pygments_lexer": "ipython3",
   "version": "3.11.5"
  }
 },
 "nbformat": 4,
 "nbformat_minor": 5
}
