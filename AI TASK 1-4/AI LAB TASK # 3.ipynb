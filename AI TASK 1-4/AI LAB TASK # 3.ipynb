{
 "cells": [
  {
   "cell_type": "code",
   "execution_count": 13,
   "metadata": {},
   "outputs": [],
   "source": [
    "room = {\n",
    "    \"living room \" : 22,\n",
    "    \"kitchen \"     : 10,\n",
    "    \"bedroom\"     : 18\n",
    "}\n"
   ]
  },
  {
   "cell_type": "code",
   "execution_count": 27,
   "metadata": {},
   "outputs": [],
   "source": [
    "class modelbased_flex_agent:\n",
    "    def __init__(self,temp):\n",
    "        self.desired_temp = temp\n",
    "        self.prev_temp = None\n",
    "\n",
    "    def preceiver(self,temp):\n",
    "        self.current_temp = temp\n",
    "\n",
    "    def act(self):\n",
    "        if self.current_temp < self.desired_temp:\n",
    "            \n",
    "            return f\"turn on the heater \"\n",
    "        else:\n",
    "            return f\"turn of the heater\"\n",
    "            \n",
    "\n"
   ]
  },
  {
   "cell_type": "code",
   "execution_count": 28,
   "metadata": {},
   "outputs": [],
   "source": [
    "room = {\n",
    "    \"living room \" : 22,\n",
    "    \"kitchen \"     : 10,\n",
    "    \"bedroom\"     : 18\n",
    "}\n"
   ]
  },
  {
   "cell_type": "code",
   "execution_count": 29,
   "metadata": {},
   "outputs": [],
   "source": [
    "obj1 = modelbased_flex_agent(16)"
   ]
  },
  {
   "cell_type": "code",
   "execution_count": 30,
   "metadata": {},
   "outputs": [],
   "source": [
    "with open(\"Untitled-1.txt\", \"w\") as file:  \n",
    "    for room_name, temp in room.items():  \n",
    "        obj1.preceiver(temp)\n",
    "        \n",
    "        action = obj1.act()\n",
    "        \n",
    "        line = f\"{room_name} : {temp} ==> {action}\\n\"\n",
    "        file.write(line)\n"
   ]
  },
  {
   "cell_type": "code",
   "execution_count": null,
   "metadata": {},
   "outputs": [],
   "source": []
  },
  {
   "cell_type": "code",
   "execution_count": null,
   "metadata": {},
   "outputs": [],
   "source": []
  },
  {
   "cell_type": "code",
   "execution_count": null,
   "metadata": {},
   "outputs": [],
   "source": []
  }
 ],
 "metadata": {
  "kernelspec": {
   "display_name": "Python 3",
   "language": "python",
   "name": "python3"
  },
  "language_info": {
   "codemirror_mode": {
    "name": "ipython",
    "version": 3
   },
   "file_extension": ".py",
   "mimetype": "text/x-python",
   "name": "python",
   "nbconvert_exporter": "python",
   "pygments_lexer": "ipython3",
   "version": "3.11.9"
  }
 },
 "nbformat": 4,
 "nbformat_minor": 2
}
