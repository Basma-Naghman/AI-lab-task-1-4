{
 "cells": [
  {
   "cell_type": "code",
   "execution_count": null,
   "metadata": {},
   "outputs": [],
   "source": [
    "###"
   ]
  },
  {
   "cell_type": "markdown",
   "metadata": {},
   "source": [
    "### A* Algorithmns \n"
   ]
  },
  {
   "cell_type": "code",
   "execution_count": null,
   "metadata": {},
   "outputs": [],
   "source": [
    "##A* Algorithm for finding the shortest path in a graph."
   ]
  },
  {
   "cell_type": "code",
   "execution_count": 3,
   "metadata": {},
   "outputs": [
    {
     "name": "stdout",
     "output_type": "stream",
     "text": [
      "Shortest path: ['A', 'B', 'E', 'G']\n",
      "Path cost: 8\n"
     ]
    }
   ],
   "source": [
    "def a_star_algorithm(graph, start, goal, h):\n",
    "\n",
    "    open_set = [(start, 0)]\n",
    "    came_from = {}           \n",
    "    g_score = {node: float('inf') for node in graph}  \n",
    "    g_score[start] = 0\n",
    "    f_score = {node: float('inf') for node in graph}  \n",
    "    f_score[start] = h[start]\n",
    "\n",
    "    while open_set:\n",
    "        \n",
    "        current, _ = min(open_set, key=lambda x: f_score[x[0]])\n",
    "\n",
    "        if current == goal:  # Goal reached\n",
    "            path = []\n",
    "            while current in came_from:\n",
    "                path.append(current)\n",
    "                current = came_from[current]\n",
    "            path.append(start)\n",
    "            return path[::-1], g_score[goal]\n",
    "\n",
    "        # Remove current node from open_set\n",
    "        open_set = [(node, score) for node, score in open_set if node != current]\n",
    "\n",
    "        for neighbor, cost in graph[current]:\n",
    "            tentative_g_score = g_score[current] + cost\n",
    "\n",
    "            if tentative_g_score < g_score[neighbor]:  \n",
    "                came_from[neighbor] = current\n",
    "                g_score[neighbor] = tentative_g_score\n",
    "                f_score[neighbor] = tentative_g_score + h[neighbor]\n",
    "\n",
    "                if neighbor not in [node for node, _ in open_set]:\n",
    "                    open_set.append((neighbor, f_score[neighbor]))\n",
    "\n",
    "    return None, float('inf') \n",
    "\n",
    "# Example Graph\n",
    "graph = {\n",
    "    'A': [('B', 3), ('C', 6)],\n",
    "    'B': [('D', 2), ('E', 3)],\n",
    "    'C': [('F', 5)],\n",
    "    'D': [('G', 7)],\n",
    "    'E': [('G', 2)],\n",
    "    'F': [('G', 4)],\n",
    "    'G': []\n",
    "}\n",
    "\n",
    "# Example Heuristic Function\n",
    "heuristic_values = {\n",
    "    'A': 3,\n",
    "    'B': 5,\n",
    "    'C': 3,\n",
    "    'D': 4,\n",
    "    'E': 2,\n",
    "    'F': 2,\n",
    "    'G': 0\n",
    "}\n",
    "\n",
    "# Perform A* Search\n",
    "start_node = 'A'\n",
    "goal_node = 'G'\n",
    "path, cost = a_star_algorithm(graph, start_node, goal_node, heuristic_values)\n",
    "\n",
    "print(f\"Shortest path: {path}\")\n",
    "print(f\"Path cost: {cost}\")\n"
   ]
  },
  {
   "cell_type": "code",
   "execution_count": null,
   "metadata": {},
   "outputs": [],
   "source": []
  }
 ],
 "metadata": {
  "kernelspec": {
   "display_name": "Python 3",
   "language": "python",
   "name": "python3"
  },
  "language_info": {
   "codemirror_mode": {
    "name": "ipython",
    "version": 3
   },
   "file_extension": ".py",
   "mimetype": "text/x-python",
   "name": "python",
   "nbconvert_exporter": "python",
   "pygments_lexer": "ipython3",
   "version": "3.11.9"
  }
 },
 "nbformat": 4,
 "nbformat_minor": 2
}
