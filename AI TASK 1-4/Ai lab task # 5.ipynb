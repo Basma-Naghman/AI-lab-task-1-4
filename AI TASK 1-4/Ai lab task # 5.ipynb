{
 "cells": [
  {
   "cell_type": "markdown",
   "metadata": {},
   "source": [
    "DFS  with stack & Node\n"
   ]
  },
  {
   "cell_type": "code",
   "execution_count": 3,
   "metadata": {},
   "outputs": [
    {
     "name": "stdout",
     "output_type": "stream",
     "text": [
      "Node: A\n",
      "Connections: ['B', 'E', 'D']\n",
      "Node: B\n",
      "Connections: ['F']\n",
      "Node: D\n",
      "Connections: ['C', 'H']\n",
      "Node: E\n",
      "Connections: ['H']\n",
      "Node: F\n",
      "Connections: ['I', 'G']\n",
      "Node: G\n",
      "Connections: ['C', 'B']\n",
      "Node: C\n",
      "Connections: ['B']\n",
      "Node: I\n",
      "Connections: ['H']\n"
     ]
    }
   ],
   "source": [
    "Graph = {\n",
    "    'A' : ['B','E','D'],\n",
    "    'B':['F'],\n",
    "    'D':['C','H'],\n",
    "    'E':['H'],\n",
    "    'F':['I','G'],\n",
    "    'G':['C','B'],\n",
    "    'C':['B'],\n",
    "    'I':['H']\n",
    "    \n",
    "}\n",
    "\n",
    "\n",
    "for node, connections in Graph.items():\n",
    "    print(f\"Node: {node}\")\n",
    "    print(f\"Connections: {connections}\")\n"
   ]
  },
  {
   "cell_type": "code",
   "execution_count": null,
   "metadata": {},
   "outputs": [
    {
     "name": "stdout",
     "output_type": "stream",
     "text": [
      "\n",
      "Order of DFS traversal from starting node A:\n",
      "Starting DFS from node A:\n",
      "\n",
      "Visited: A\n",
      "Visited: D\n",
      "Visited: H\n",
      "Visited: C\n",
      "Visited: B\n",
      "Visited: F\n",
      "Visited: G\n",
      "Visited: I\n",
      "Visited: E\n",
      "\n",
      "Traversal completed. Order of nodes visited: ['A', 'D', 'H', 'C', 'B', 'F', 'G', 'I', 'E']\n"
     ]
    }
   ],
   "source": [
    "def depth_first_search(Graph, start_node):\n",
    "    visited_nodes = []  \n",
    "    exploration_stack = [start_node]  \n",
    "    print(f\"Starting DFS from node {start_node}:\\n\")\n",
    "\n",
    "    while exploration_stack:  \n",
    "        current_node = exploration_stack.pop()  \n",
    "        if current_node not in visited_nodes:  \n",
    "            visited_nodes.append(current_node)  \n",
    "            print(f\"Visited: {current_node}\")  \n",
    "            \n",
    "            \n",
    "            for neighbor in Graph.get(current_node, []):\n",
    "                if neighbor not in visited_nodes:\n",
    "                    exploration_stack.append(neighbor)\n",
    "    \n",
    "    return visited_nodes  \n",
    "\n",
    "\n",
    "# Execute DFS traversal\n",
    "print(\"\\nOrder of DFS traversal from starting node A:\")\n",
    "visited_order = depth_first_search(Graph, 'A')\n",
    "print(\"\\nTraversal completed. Order of nodes visited:\", visited_order)\n"
   ]
  },
  {
   "cell_type": "markdown",
   "metadata": {},
   "source": [
    "### IN_order , Pre_order ,Post_order "
   ]
  },
  {
   "cell_type": "code",
   "execution_count": null,
   "metadata": {},
   "outputs": [],
   "source": []
  },
  {
   "cell_type": "markdown",
   "metadata": {},
   "source": [
    "# INORDER "
   ]
  },
  {
   "cell_type": "code",
   "execution_count": 1,
   "metadata": {},
   "outputs": [],
   "source": [
    "# in_order traverse (left,root,right)\n",
    "def inorder_traversal(root):\n",
    "    if root is None:\n",
    "        return []\n",
    "    return inorder_traversal(root.left) + [root.value] + inorder_traversal(root.right)"
   ]
  },
  {
   "cell_type": "markdown",
   "metadata": {},
   "source": [
    "# PREORDER"
   ]
  },
  {
   "cell_type": "code",
   "execution_count": 3,
   "metadata": {},
   "outputs": [],
   "source": [
    "#   pre_order traverse (root,left,right)\n",
    "def preorder_traversal(root):\n",
    "    if root is None:\n",
    "        return []\n",
    "    return [root.value] + preorder_traversal(root.left) + preorder_traversal(root.right)"
   ]
  },
  {
   "cell_type": "markdown",
   "metadata": {},
   "source": [
    "# POSTORDER"
   ]
  },
  {
   "cell_type": "code",
   "execution_count": 4,
   "metadata": {},
   "outputs": [],
   "source": [
    "# post_Order traverse (left,right,root)\n",
    "\n",
    "def postorder_traversal(root):\n",
    "    if root is None:\n",
    "        return []\n",
    "    return postorder_traversal(root.left) + postorder_traversal(root.right) + [root.value]"
   ]
  },
  {
   "cell_type": "code",
   "execution_count": null,
   "metadata": {},
   "outputs": [],
   "source": []
  },
  {
   "cell_type": "code",
   "execution_count": null,
   "metadata": {},
   "outputs": [],
   "source": [
    "\n"
   ]
  },
  {
   "cell_type": "code",
   "execution_count": null,
   "metadata": {},
   "outputs": [],
   "source": []
  }
 ],
 "metadata": {
  "kernelspec": {
   "display_name": "Python 3",
   "language": "python",
   "name": "python3"
  },
  "language_info": {
   "codemirror_mode": {
    "name": "ipython",
    "version": 3
   },
   "file_extension": ".py",
   "mimetype": "text/x-python",
   "name": "python",
   "nbconvert_exporter": "python",
   "pygments_lexer": "ipython3",
   "version": "3.11.9"
  }
 },
 "nbformat": 4,
 "nbformat_minor": 2
}
