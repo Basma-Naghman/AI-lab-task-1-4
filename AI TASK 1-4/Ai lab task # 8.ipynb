{
 "cells": [
  {
   "cell_type": "code",
   "execution_count": null,
   "metadata": {},
   "outputs": [],
   "source": []
  },
  {
   "cell_type": "markdown",
   "metadata": {},
   "source": [
    "### MIN MAX Algorithm"
   ]
  },
  {
   "cell_type": "code",
   "execution_count": 1,
   "metadata": {},
   "outputs": [],
   "source": [
    "import math"
   ]
  },
  {
   "cell_type": "code",
   "execution_count": 8,
   "metadata": {},
   "outputs": [],
   "source": [
    "def min_max(cd,node,maxt,scr,td):\n",
    "    if(cd==td):\n",
    "        return scr[node]\n",
    "    if (maxt):\n",
    "        return max(min_max(cd+1,node*2,False,scr,td),\n",
    "                   min_max(cd+1,node*2+1,False,scr,td))\n",
    "    else:\n",
    "        return min(min_max(cd+1,node*2,True,scr,td),\n",
    "                   min_max(cd+1,node*2+1,True,scr,td))\n"
   ]
  },
  {
   "cell_type": "code",
   "execution_count": 9,
   "metadata": {},
   "outputs": [
    {
     "name": "stdout",
     "output_type": "stream",
     "text": [
      "The answer is :  3\n"
     ]
    }
   ],
   "source": [
    "scr =[]\n",
    "x = int(input(\"Enter total number of leaf node : \"))\n",
    "for i in range(x):\n",
    "    y = int(input(\"Enter leaf value : \"))\n",
    "    scr.append(y)\n",
    "\n",
    "td = math.log(len(scr),2)\n",
    "\n",
    "cd = int(input(\"Enter current depth value : \"))\n",
    "nodev = int(input(\"Enter node value : \"))\n",
    "maxt = True\n",
    "\n",
    "print(\"The answer is : \" ,end=\" \")\n",
    "answer = min_max(cd,nodev,maxt,scr,td)\n",
    "print(answer)"
   ]
  },
  {
   "cell_type": "code",
   "execution_count": null,
   "metadata": {},
   "outputs": [],
   "source": []
  },
  {
   "cell_type": "code",
   "execution_count": null,
   "metadata": {},
   "outputs": [],
   "source": []
  }
 ],
 "metadata": {
  "kernelspec": {
   "display_name": "Python 3",
   "language": "python",
   "name": "python3"
  },
  "language_info": {
   "codemirror_mode": {
    "name": "ipython",
    "version": 3
   },
   "file_extension": ".py",
   "mimetype": "text/x-python",
   "name": "python",
   "nbconvert_exporter": "python",
   "pygments_lexer": "ipython3",
   "version": "3.11.9"
  }
 },
 "nbformat": 4,
 "nbformat_minor": 2
}
